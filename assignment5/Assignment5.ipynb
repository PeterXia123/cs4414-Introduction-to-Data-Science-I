{
 "cells": [
  {
   "cell_type": "markdown",
   "metadata": {},
   "source": [
    "# Assignment 5: Regularized Models\n",
    "\n",
    "# /20 Marks\n",
    "\n",
    "### Instructions\n",
    "\n",
    "* Write your code in the cells provided.  Where appropirate, enter markdown to answer questions.\n",
    "* Delete your output before submitting and ensure that the code works when executed sequentially\n",
    "* Submit this notebook to OWL."
   ]
  },
  {
   "cell_type": "code",
   "execution_count": 58,
   "metadata": {},
   "outputs": [],
   "source": [
    "import pandas as pd\n",
    "import numpy as np\n",
    "import matplotlib.pyplot as plt\n",
    "import seaborn as sns\n",
    "from IPython.display import display\n",
    "from sklearn.model_selection import train_test_split, cross_val_score, GridSearchCV\n",
    "from sklearn.linear_model import Ridge\n",
    "from sklearn.pipeline import Pipeline\n",
    "from sklearn.preprocessing import StandardScaler, PolynomialFeatures\n",
    "from sklearn.metrics import mean_squared_error, mean_absolute_error, r2_score\n",
    "pd.set_option('display.max_columns', 500)\n",
    "\n",
    "%matplotlib inline\n",
    "\n"
   ]
  },
  {
   "cell_type": "markdown",
   "metadata": {},
   "source": [
    "# You're Still a Data Scientist!\n",
    "\n",
    "Your models from the last assignment really impressed some in the management in your football club. Now that you have learned the art of regularization, your boss thinks you should do equally well with much less data. This will safe a lot of money the next time around. This time you get only a data set with 3000 observations.\n",
    "\n",
    "This assignment can be done in a straightforward fashion by using sklearn model pipelines.  I suggest you read the documentation found below:\n",
    "\n",
    "[Pipeline Documentation](https://scikit-learn.org/stable/modules/generated/sklearn.pipeline.Pipeline.html)\n",
    "\n",
    "[Pipeline Blog Post](https://towardsdatascience.com/a-simple-example-of-pipeline-in-machine-learning-with-scikit-learn-e726ffbb6976)\n",
    "\n",
    "[GridSearh Documentation](https://scikit-learn.org/stable/modules/generated/sklearn.model_selection.GridSearchCV.html)."
   ]
  },
  {
   "cell_type": "markdown",
   "metadata": {},
   "source": [
    "### Question1: Preprocessing (1pt)\n",
    "\n",
    "To get started repeat the preprocessing steps from last time: \n",
    "* Drop the variables: 'ID','club','club_logo','flag', 'nationality','photo','potential', 'birth_date'\n",
    "* Dummy code the variables: work_rate_att, work_rate_def, preferred_foot. **Because we are running a regularized model, we do not want to drop the first column**\n",
    "* Get a test data set of size 500 - to make results comparable to solutions, set random_state = 0\n",
    "\n",
    "To make sure that you get a good start - check the solutions from Assignment 4. And make sure you can apply these steps flexibly and quickly. **You will need it for the midterm!**"
   ]
  },
  {
   "cell_type": "code",
   "execution_count": 89,
   "metadata": {},
   "outputs": [
    {
     "name": "stdout",
     "output_type": "stream",
     "text": [
      "(3000, 53)\n",
      "(2500, 48) (500, 48)\n"
     ]
    }
   ],
   "source": [
    "df = pd.read_csv(\"footballer_small.csv\")\n",
    "print(df.shape)\n",
    "model_data = df.drop(['ID','club','club_logo','flag', 'nationality','photo','potential', 'birth_date'],axis = 'columns')\n",
    "\n",
    "model_data = model_data.drop(model_data.columns[0] , axis = 'columns')\n",
    "model_data['work_rate_att'] = pd.Categorical(model_data.work_rate_att, categories=['Low','Medium','High'])\n",
    "model_data['work_rate_def'] = pd.Categorical(model_data.work_rate_def, categories=['Low','Medium','High'])\n",
    "model_data['preferred_foot'] = pd.Categorical(model_data.preferred_foot, categories = ['Left','Right'])\n",
    "model_data = pd.get_dummies(model_data, drop_first=False)\n",
    "Y = model_data.overall\n",
    "X= model_data.drop(\"overall\", axis = \"columns\")\n",
    "Train_x,Test_x,Train_y,Test_y = train_test_split(X,Y,test_size = 500,random_state = 0)\n",
    "print(Train_x.shape,Test_x.shape)\n",
    "\n"
   ]
  },
  {
   "cell_type": "markdown",
   "metadata": {},
   "source": [
    "Question 2: Build a pipeline to preprocess the data (2pt)\n",
    "To run the regression model, we want to have a design matrix which houses standardized features (that is, subtracts their means and divides by their standard deviations) and no intercept.\n",
    "\n",
    "The Senior Data Scientist has asked you to build a pipeline to perform these actions. In your model pipeline, set ride regression's penalization parameter to 0.5. Do so and then visualize the first 50 rows of your design matrix using matplotlib.pyplot.imshow.\n"
   ]
  },
  {
   "cell_type": "code",
   "execution_count": 90,
   "metadata": {},
   "outputs": [
    {
     "data": {
      "text/plain": [
       "<matplotlib.image.AxesImage at 0x1a1a34e310>"
      ]
     },
     "execution_count": 90,
     "metadata": {},
     "output_type": "execute_result"
    },
    {
     "data": {
      "image/png": "[encoded data removed]",
      "text/plain": [
       "<Figure size 432x288 with 1 Axes>"
      ]
     },
     "metadata": {
      "needs_background": "light"
     },
     "output_type": "display_data"
    }
   ],
   "source": [
    "ridge_model= Pipeline([\n",
    "        \n",
    "      (\"stard\",StandardScaler(with_mean=True, with_std=True)),\n",
    "      (\"ridge\",Ridge(alpha=0.5,fit_intercept=True))\n",
    "       \n",
    "        \n",
    "])\n",
    "scaler = StandardScaler(with_mean = True, with_std = True)\n",
    "std_feature_X = scaler.fit_transform(X)\n",
    "plt.imshow(std_feature_X[:50,:])\n",
    "\n",
    "\n"
   ]
  },
  {
   "cell_type": "markdown",
   "metadata": {},
   "source": [
    "### Question 3: Do ridge regression (2pt)\n",
    "Now use Ridge regression with a ridge parameter of 0.5 and report the Validation error on the training set. Use 10-fold cross-validation.  "
   ]
  },
  {
   "cell_type": "code",
   "execution_count": 91,
   "metadata": {},
   "outputs": [
    {
     "name": "stdout",
     "output_type": "stream",
     "text": [
      "[-6.46920377 -6.6779953  -6.41042042 -6.01241783 -5.92307525 -6.00657911\n",
      " -5.61346857 -5.43737544 -5.40783257 -5.18738542]\n",
      "5.914575367646265\n"
     ]
    }
   ],
   "source": [
    "\n",
    "ridge_model.fit(Train_x,Train_y)\n",
    "cross_val = cross_val_score(ridge_model,\n",
    "                               Train_x,\n",
    "                               Train_y,\n",
    "                               cv = 10,\n",
    "                               scoring='neg_mean_squared_error'\n",
    "                               )\n",
    "print(cross_val)\n",
    "cv_score_mean = -cross_val.mean()\n",
    "print(cv_score_mean)\n",
    "\n",
    "\n",
    "\n"
   ]
  },
  {
   "cell_type": "markdown",
   "metadata": {},
   "source": [
    "### Question 4: Test Error (3pt)\n",
    "Now test how the ridge model, fitted to the whole training set, on how it performs on the Test data set. Because you wrote a pipeline to perform the preprocessing steps, you shouldn't have to worry about preprocessing the test data.\n",
    "\n",
    "\n",
    "Report the mean squared error on the test data - along with the 95% confidencen interval, determined with the central limit theorem. What proportion of the variance in the test scores have you predicted (+ CI)? "
   ]
  },
  {
   "cell_type": "code",
   "execution_count": 100,
   "metadata": {},
   "outputs": [
    {
     "name": "stdout",
     "output_type": "stream",
     "text": [
      "the mse is  6.451153177980513\n",
      "the confident interval is  [5.55134368 7.35096268]\n",
      "the proportion can be predicted by model is 0.8748311749551932\n"
     ]
    }
   ],
   "source": [
    "se = (ridge_model.predict(Test_x) - Test_y)**2\n",
    "mse = np.mean(se)\n",
    "print(\"the mse is \",mse)\n",
    "sd = np.std(se)\n",
    "conf_inv = mse + 1.96*sd*np.array([-1,1])/np.sqrt(len(se))\n",
    "conf_inv\n",
    "print(\"the confident interval is \",conf_inv)\n",
    "rss = sum(se)\n",
    "tss = sum((Test_y - np.mean(Test_y))**2)\n",
    "rsq = 1 - rss/tss\n",
    "print(\"the proportion can be predicted by model is\",rsq)\n",
    "\n",
    "\n"
   ]
  },
  {
   "cell_type": "markdown",
   "metadata": {},
   "source": [
    "### Question 5: Tune the ridge parameter (3pt)\n",
    "Now use 10-fold CV on the training set to determine a good setting for the regularization coefficient. Perform the search in log-space, going from $\\lambda = \\exp(-8), \\cdots, \\exp(3)$ in steps of 15. Plot the mean squared error as a function of $log(\\lambda)$. \n",
    "\n",
    "Written answer:  What does this tell you about regularization in this model? "
   ]
  },
  {
   "cell_type": "code",
   "execution_count": 111,
   "metadata": {},
   "outputs": [
    {
     "data": {
      "text/plain": [
       "<matplotlib.collections.PathCollection at 0x1a1b84f7d0>"
      ]
     },
     "execution_count": 111,
     "metadata": {},
     "output_type": "execute_result"
    },
    {
     "data": {
      "image/png": "[encoded data removed]",
      "text/plain": [
       "<Figure size 432x288 with 1 Axes>"
      ]
     },
     "metadata": {
      "needs_background": "light"
     },
     "output_type": "display_data"
    }
   ],
   "source": [
    "lam = np.exp(np.linspace(-8,3,15))\n",
    "mse = np.zeros(15)\n",
    "\n",
    "for i in range(lam.size):\n",
    "    cv_scores = cross_val_score(ridge_model.set_params(ridge__alpha=lam[i]), Train_x, Train_y,cv=10,scoring = 'neg_mean_squared_error')\n",
    "    mse[i]=-cv_scores.mean()\n",
    "\n",
    "    \n",
    "\n",
    "plt.scatter(np.log(lam),mse)\n"
   ]
  },
  {
   "cell_type": "markdown",
   "metadata": {},
   "source": [
    "we can see that with increse of penalty parameter, first the mean error for cross validation decrease slowly at first, but when it pass some threshold, the mean error for cross validation increase. which means at first, model might have little bit overfitting, indroducing the penalty shrink the parameter value and reducing the testing error. but when it pass certain point, the model become lack of fitting and the bias increase dominating over the decrease of varience so overall tesing error increase."
   ]
  },
  {
   "cell_type": "markdown",
   "metadata": {},
   "source": [
    "### Question 6: Ridge regression with a more complex model - containing all 2-nd order interactions (2pt)\n",
    "Give how well the model with all quadratic interactions worked the last time, your boss now wants to see if you can fit this model with all quadratic interaction terms to the data. \n",
    "Build a design matrix with all quadratic terms and 2-way interactions and then standardize them.  You can very easily do this by altering your pipeline.\n",
    "\n",
    "Check how many regressors you have. Explain why you have this many terms. "
   ]
  },
  {
   "cell_type": "code",
   "execution_count": 112,
   "metadata": {},
   "outputs": [
    {
     "data": {
      "text/plain": [
       "(3000, 1224)"
      ]
     },
     "execution_count": 112,
     "metadata": {},
     "output_type": "execute_result"
    }
   ],
   "source": [
    "ridge_model_interaction= Pipeline([\n",
    "       ('poly',PolynomialFeatures(include_bias=False)),    \n",
    "       (\"stard\",StandardScaler(with_mean=True, with_std=True)),\n",
    "       (\"ridge\",Ridge(alpha=0.5,fit_intercept=True))\n",
    "        \n",
    "])\n",
    "\n",
    "\n",
    "poly = PolynomialFeatures(include_bias=False)\n",
    "newdata = poly.fit_transform(X)\n",
    "\n",
    "newdata.shape\n",
    "\n",
    "\n"
   ]
  },
  {
   "cell_type": "markdown",
   "metadata": {},
   "source": [
    "we have 1224 type of fit. \n",
    " we can easily derive that the formula for polynomial features 0.5*n^2 +1.5n and plug n = 48 and get we have 1224 terms in total.\n"
   ]
  },
  {
   "cell_type": "markdown",
   "metadata": {},
   "source": [
    "### Question 7: Tune the Ridge coefficient for the 2nd-order model   (3pt)\n",
    "Now use 10-fold CV on the training set to determine a good setting for the regularization coefficient. Perform the search in log-space, going from $\\lambda = \\exp(-8), \\cdots, \\exp(3)$ in steps of 15. Plot the mean squared error as a function of $log(\\lambda)$. \n",
    "\n",
    "Written answer: What does the shape of the curve (as compared to the answer to Question 5) tell you about this model? What is the best regularization? "
   ]
  },
  {
   "cell_type": "code",
   "execution_count": 116,
   "metadata": {},
   "outputs": [
    {
     "name": "stdout",
     "output_type": "stream",
     "text": [
      "[9.15486758]\n"
     ]
    },
    {
     "data": {
      "image/png": "[encoded data removed]",
      "text/plain": [
       "<Figure size 432x288 with 1 Axes>"
      ]
     },
     "metadata": {
      "needs_background": "light"
     },
     "output_type": "display_data"
    }
   ],
   "source": [
    "\n",
    "for i in range(lam.size):\n",
    "    cv_scores = cross_val_score(ridge_model_interaction.set_params(ridge__alpha=lam[i]), Train_x, Train_y,cv=10,scoring = 'neg_mean_squared_error')\n",
    "    mse[i]=-cv_scores.mean()\n",
    "\n",
    "    \n",
    "\n",
    "plt.scatter(np.log(lam),mse)\n",
    "\n",
    "min_lam = lam[mse==np.min(mse)]\n",
    "print(min_lam)\n",
    "\n"
   ]
  },
  {
   "cell_type": "markdown",
   "metadata": {},
   "source": [
    "the shape decrease more dramaticly as increase of penalty at first place compared with curve in question 5, which means that the overfitting is serious at first place(it make sense because we use 2nd -order model). after pass a threshold, it show similiar trend with quesiton 5, increase slowly. the best regularization is $\\lambda = 9.15486758\n"
   ]
  },
  {
   "cell_type": "markdown",
   "metadata": {},
   "source": [
    "### Question 8: Test error  (2pt)\n",
    "Report proportion of variance predicted + the 95% confidence for the 2nd-order model with the best regularization parameter, when you fit it on the entire training set. \n",
    "\n",
    "\n"
   ]
  },
  {
   "cell_type": "code",
   "execution_count": null,
   "metadata": {},
   "outputs": [],
   "source": []
  },
  {
   "cell_type": "code",
   "execution_count": 125,
   "metadata": {},
   "outputs": [
    {
     "name": "stdout",
     "output_type": "stream",
     "text": [
      "the confidence interval for mse is [1.38051345 2.0240278 ]\n",
      "the proportion of varience can be explained by model is 0.9669716082516405\n"
     ]
    }
   ],
   "source": [
    "\n",
    "opti_model = ridge_model_interaction.set_params(ridge__alpha = min_lam).fit(Train_x, Train_y)\n",
    "pred_y = opti_model.predict(Test_x)\n",
    "se = (Test_y - pred_y)**2\n",
    "sd = np.std(se)\n",
    "mse1 = np.mean(se)\n",
    "rss = np.sum((Test_y - pred_y)**2)\n",
    "tss = np.sum((Test_y  - np.mean(Test_y ))**2)\n",
    "conf_inv = mse1 + 1.96*sd*np.array([-1,1])/np.sqrt(len(se))\n",
    "print(\"the confidence interval for mse is\", conf_inv)\n",
    "rsq = 1 - rss/tss \n",
    "print(\"the proportion of varience can be explained by model is\",rsq)\n",
    "\n",
    "\n",
    "\n",
    "\n",
    "\n",
    "\n",
    "\n"
   ]
  },
  {
   "cell_type": "markdown",
   "metadata": {},
   "source": [
    "### Question 9: Fine-tuning (2 pt)\n",
    "That's pretty impressive! \n",
    "\n",
    "Now, your boss thinks that you could slightly improve your test error by fine-tuning your ridge parameter on the test set for the full model fit. Your boss instructs you to combine the training and test sets, refit the model, and then re-test on the test set.\n",
    "\n",
    "Would you predict that a smaller or bigger regularization factor would do better? What do you think of this procedure? Is this a reliable procedure for assessing model fit?  Answer in no more than 5 sentences."
   ]
  },
  {
   "cell_type": "markdown",
   "metadata": {},
   "source": [
    "i think the smaller regularization factor would do better, because we have more datapoint on training. i think this procedure is useless.because we already incorporate the test data and use it to train the model, so we can't use this portion of data to test and evaluate the how well the model fit."
   ]
  },
  {
   "cell_type": "markdown",
   "metadata": {},
   "source": [
    "---\n",
    "* Write your code in the cells provided.  Where appropirate, enter markdown to answer questions.\n",
    "* Delete your output before submitting and ensure that the code works when executed sequentially\n",
    "* Submit this notebook to OWL."
   ]
  },
  {
   "cell_type": "code",
   "execution_count": null,
   "metadata": {},
   "outputs": [],
   "source": []
  },
  {
   "cell_type": "code",
   "execution_count": null,
   "metadata": {},
   "outputs": [],
   "source": []
  }
 ],
 "metadata": {
  "kernelspec": {
   "display_name": "Python 3",
   "language": "python",
   "name": "python3"
  },
  "language_info": {
   "codemirror_mode": {
    "name": "ipython",
    "version": 3
   },
   "file_extension": ".py",
   "mimetype": "text/x-python",
   "name": "python",
   "nbconvert_exporter": "python",
   "pygments_lexer": "ipython3",
   "version": "3.7.4"
  }
 },
 "nbformat": 4,
 "nbformat_minor": 4
}
