{
 "cells": [
  {
   "cell_type": "markdown",
   "metadata": {},
   "source": [
    "# Grade: /20 Mark(s)\n",
    "\n",
    "# Assignment 03: Confidence Intervals & The Bootstrap\n",
    "\n",
    "Once you are finished, ensure to complete the following steps.\n",
    "\n",
    "1.  Restart your kernel by clicking 'Kernel' > 'Restart & Run All'.\n",
    "\n",
    "2.  Fix any errors which result from this.\n",
    "\n",
    "3.  Repeat steps 1. and 2. until your notebook runs without errors.\n",
    "\n",
    "4.  Submit your completed notebook to OWL by the deadline.\n",
    "\n"
   ]
  },
  {
   "cell_type": "code",
   "execution_count": 30,
   "metadata": {},
   "outputs": [],
   "source": [
    "#It's dangerous to go alone.  Take these\n",
    "import numpy as np\n",
    "from scipy.stats import t, sem\n",
    "import matplotlib.pyplot as plt\n",
    "import statsmodels.formula.api as sm\n",
    "import pandas as pd\n",
    "import seaborn as sns\n",
    "\n",
    "\n",
    "train = pd.read_csv(\"hockey_draftees_2005.csv\")\n",
    "test = pd.read_csv(\"hockey_draftees_test.csv\")\n"
   ]
  },
  {
   "cell_type": "markdown",
   "metadata": {},
   "source": [
    "### Question 1: /2 Mark(s)\n",
    "\n",
    "\n",
    "Recall from lecture that a $100(1-\\alpha)\\%$ confidence interval for the mean is \n",
    "\n",
    "$$ \\bar{x} \\pm  t_{1-\\alpha/2, n-1} \\dfrac{\\hat{\\sigma}}{\\sqrt{n}} $$\n",
    "\n",
    "Where $ t_{1-\\alpha/2, n-1}$ is the appropiorate quantile of a Student's t distribution with $n-1$ degrees of freedom.  \n",
    "\n",
    "Write a function called `confidence_interval` which takes as it's argument an array of data called `data` and returns two things:\n",
    "\n",
    "* An estimated mean of `data`, and \n",
    "\n",
    "* The lower and upper bounds of the 95% confidence interval for the mean of `data`.  Ensure these are returned in a numpy array of shape (2,)\n",
    "\n",
    "To get the appropirate quantiles for the t-distribution, you can use `scipy.stats.t`, which implements some statistical functions for the t-distribution.  Take a look at the documentation for `scipy.stats.t`, especially the `ppf` method.\n",
    "\n",
    "Here is the documentation: https://docs.scipy.org/doc/scipy/reference/generated/scipy.stats.t.html\n",
    "\n",
    "\n",
    "\n"
   ]
  },
  {
   "cell_type": "code",
   "execution_count": 31,
   "metadata": {},
   "outputs": [
    {
     "data": {
      "text/plain": [
       "(73.67796610169492, array([73.09435879, 74.26157341]))"
      ]
     },
     "execution_count": 31,
     "metadata": {},
     "output_type": "execute_result"
    }
   ],
   "source": [
    "def confidence_interval(data):\n",
    "\n",
    "    # Note, np.std divides by n and not n-1\n",
    "    # Force it to apply the correct formula by ussing ddof=1\n",
    "    # Alternaively, you can use scipy.stats.sem to compute\n",
    "    #The standard error\n",
    "    \n",
    "    std = np.std(data,ddof=1)\n",
    "    estimated_mean = np.mean(data)\n",
    "    tu = np.zeros(2)\n",
    "    tu = t.interval(0.95, len(data)-1, loc=0, scale=1)\n",
    "    bounds = estimated_mean + np.asarray(tu)*std/np.sqrt(len(data))\n",
    "    \n",
    "    \n",
    "    \n",
    "    \n",
    "    \n",
    "    return estimated_mean, bounds\n",
    "\n",
    "\n",
    "confidence_interval(train.ht)"
   ]
  },
  {
   "cell_type": "markdown",
   "metadata": {},
   "source": [
    "### Question 2: /2 Mark(s)\n",
    "\n",
    "The \"95% confidence interval\" is named so because the long term relative frequency of these estimators containing the true estimand is 95%.  That is to say **if I construct 100 95% confidence intervals for the sample mean again and again from the same data generating mechanism, 95 of these intervals I construct will contain the true population mean**.\n",
    "\n",
    "Write a function called `ci_simulation` that runs some simulations to show this is the case.  From a standard normal distirbution, sample 25 observations and construct a confidence interval.  Do this 20 times and plot the intervals using `matplotlib.pyplot.errorbar`.  Color the bar red if the confidence interval does not caputre the true mean and blue if it does.  If you are unfamilliar with `matplotlib.pyplot.errorbar`, I highly suggest reading Matplotlib's excellent documentation which has some examples at the bottom of the webpage.\n",
    "\n",
    "If you are unfamilliar with how to sample random numbers, I suggest you look at `numpy.random.normal`.  Try searching for the documentation for that function yourself if you need to.\n",
    "\n",
    "Here is the documentation for `matplotlib.pyplot.errorbar`: https://matplotlib.org/3.1.1/api/_as_gen/matplotlib.pyplot.errorbar.html"
   ]
  },
  {
   "cell_type": "code",
   "execution_count": 33,
   "metadata": {},
   "outputs": [
    {
     "data": {
      "text/plain": [
       "array([-0.37880464,  0.36428225])"
      ]
     },
     "metadata": {},
     "output_type": "display_data"
    },
    {
     "data": {
      "text/plain": [
       "array([-0.36160324,  0.5459679 ])"
      ]
     },
     "metadata": {},
     "output_type": "display_data"
    },
    {
     "data": {
      "text/plain": [
       "array([-0.16507582,  0.6555091 ])"
      ]
     },
     "metadata": {},
     "output_type": "display_data"
    },
    {
     "data": {
      "text/plain": [
       "array([-0.5659412 ,  0.18785426])"
      ]
     },
     "metadata": {},
     "output_type": "display_data"
    },
    {
     "data": {
      "text/plain": [
       "array([-0.1780045 ,  0.59331735])"
      ]
     },
     "metadata": {},
     "output_type": "display_data"
    },
    {
     "data": {
      "text/plain": [
       "array([-0.45608819,  0.33064119])"
      ]
     },
     "metadata": {},
     "output_type": "display_data"
    },
    {
     "data": {
      "text/plain": [
       "array([-0.31961386,  0.48530569])"
      ]
     },
     "metadata": {},
     "output_type": "display_data"
    },
    {
     "data": {
      "text/plain": [
       "array([-0.51651519,  0.23542231])"
      ]
     },
     "metadata": {},
     "output_type": "display_data"
    },
    {
     "data": {
      "text/plain": [
       "array([-0.47748587,  0.41847042])"
      ]
     },
     "metadata": {},
     "output_type": "display_data"
    },
    {
     "data": {
      "text/plain": [
       "array([-0.19955885,  0.7311669 ])"
      ]
     },
     "metadata": {},
     "output_type": "display_data"
    },
    {
     "data": {
      "text/plain": [
       "array([-0.22075644,  0.4106901 ])"
      ]
     },
     "metadata": {},
     "output_type": "display_data"
    },
    {
     "data": {
      "text/plain": [
       "array([-0.11827904,  0.91414509])"
      ]
     },
     "metadata": {},
     "output_type": "display_data"
    },
    {
     "data": {
      "text/plain": [
       "array([0.1134641 , 0.94351438])"
      ]
     },
     "metadata": {},
     "output_type": "display_data"
    },
    {
     "data": {
      "text/plain": [
       "array([-0.3728385 ,  0.38465113])"
      ]
     },
     "metadata": {},
     "output_type": "display_data"
    },
    {
     "data": {
      "text/plain": [
       "array([-0.32924817,  0.35666543])"
      ]
     },
     "metadata": {},
     "output_type": "display_data"
    },
    {
     "data": {
      "text/plain": [
       "array([-0.61848525,  0.18573364])"
      ]
     },
     "metadata": {},
     "output_type": "display_data"
    },
    {
     "data": {
      "text/plain": [
       "array([-0.24714126,  0.44272649])"
      ]
     },
     "metadata": {},
     "output_type": "display_data"
    },
    {
     "data": {
      "text/plain": [
       "array([-0.27488968,  0.34856089])"
      ]
     },
     "metadata": {},
     "output_type": "display_data"
    },
    {
     "data": {
      "text/plain": [
       "array([-0.17175956,  0.65730104])"
      ]
     },
     "metadata": {},
     "output_type": "display_data"
    },
    {
     "data": {
      "text/plain": [
       "array([-0.59855675,  0.1940275 ])"
      ]
     },
     "metadata": {},
     "output_type": "display_data"
    },
    {
     "data": {
      "image/png": "[encoded data removed]",
      "text/plain": [
       "<Figure size 720x480 with 1 Axes>"
      ]
     },
     "metadata": {
      "needs_background": "light"
     },
     "output_type": "display_data"
    }
   ],
   "source": [
    "def ci_simulation():\n",
    "    # Set the random seed to always get the same random numbers. \n",
    "    # This is for Reproducibility. \n",
    "    np.random.seed(4)\n",
    "    \n",
    "    # Create the figure.\n",
    "    fig, ax = plt.subplots(dpi = 120)\n",
    "\n",
    "    # If the interval crosses this line, it should be blue, else red.\n",
    "    ax.axhline(0, color = 'k')\n",
    "\n",
    "    # Do the following 20 times\n",
    "    for i in range(20):\n",
    " \n",
    "        #Draw 25 observations from a standard normal\n",
    "        sample = np.random.normal(size = 25)\n",
    "      \n",
    "        # Compute what we need for the CI, namely the mean and the bounds\n",
    "        result = confidence_interval(sample)\n",
    "        mu = result[0]\n",
    "        bounds = result[1]\n",
    "        display(bounds)\n",
    "        \n",
    "        # color should be blue if it crosses the black line\n",
    "        color = 'blue'\n",
    "        if (min(bounds)>0)|(max(bounds)<0):\n",
    "            # but in the case it does not, turn it red\n",
    "            color = 'red'\n",
    "\n",
    "        # Need to get the length of the interval from bounds\n",
    "        interval_len = 1.0/2*(bounds[1] - bounds[0])\n",
    "        ax.errorbar(i, mu, yerr=interval_len, color = color, fmt = 'o')\n",
    "\n",
    "    # This function does not have to return anything\n",
    "    return None\n",
    "\n",
    "ci_simulation()"
   ]
  },
  {
   "cell_type": "markdown",
   "metadata": {},
   "source": [
    "### Question 3: /2 Mark(s)\n",
    "\n",
    "If you haven't changed the random seed from 4 and if you implemented the solution correctly, you should one red interval.\n",
    "\n",
    "Answer the following below in no more than 2 sentences:\n",
    "\n",
    "a) How many red intervals did we expect to see?  What is your justifiation for this?\n",
    "\n",
    "Write your answers below\n",
    "\n",
    "Note:  Changing the random seed might affect how many red intervals you see.  Try changing the  random seed in your function to 3.  This will yield two red intervals (which is different than what you should expect to see).  This happends because of random sampling error.  Probability is a funny thing.  It doesn't guarentee that out of *every* 50 intervals constructed 45 will contain the mean.\n",
    "\n",
    "---\n",
    "\n",
    "\n",
    "a)we are expect to see 1 redline, because the confidence interval is 95%, which means we are 95% confident that the true mu will fall into the confidence interval, now we run the simulation 20 times, so it is expected that 19 out of 20 times fall into the confidence interval and leave one fall out of  confidence interval.\n",
    "\n",
    "\n"
   ]
  },
  {
   "cell_type": "markdown",
   "metadata": {},
   "source": [
    "### Question 4: /2 Mark(s)\n",
    "\n",
    "Load in the `hockey_draftees_2005.csv` data into pandas. It contains data from hockey players drafted in 2005. \n",
    "Fit a linear model of weight (`wt`) explained by height (`ht`) using statsmodels' formula api for linear regression. Call your fitted model `model`.  \n",
    "Make a scatter plot of the height (x-axis) against weight (y-axis). \n",
    "Add the predicted values for 66-80 inches. \n",
    "\n",
    "Print out the r squared for this model."
   ]
  },
  {
   "cell_type": "code",
   "execution_count": 11,
   "metadata": {},
   "outputs": [
    {
     "data": {
      "text/html": [
       "<div>\n",
       "<style scoped>\n",
       "    .dataframe tbody tr th:only-of-type {\n",
       "        vertical-align: middle;\n",
       "    }\n",
       "\n",
       "    .dataframe tbody tr th {\n",
       "        vertical-align: top;\n",
       "    }\n",
       "\n",
       "    .dataframe thead th {\n",
       "        text-align: right;\n",
       "    }\n",
       "</style>\n",
       "<table border=\"1\" class=\"dataframe\">\n",
       "  <thead>\n",
       "    <tr style=\"text-align: right;\">\n",
       "      <th></th>\n",
       "      <th>ht</th>\n",
       "      <th>predict_wt</th>\n",
       "    </tr>\n",
       "  </thead>\n",
       "  <tbody>\n",
       "    <tr>\n",
       "      <td>0</td>\n",
       "      <td>66</td>\n",
       "      <td>168.496795</td>\n",
       "    </tr>\n",
       "    <tr>\n",
       "      <td>1</td>\n",
       "      <td>67</td>\n",
       "      <td>172.961893</td>\n",
       "    </tr>\n",
       "    <tr>\n",
       "      <td>2</td>\n",
       "      <td>68</td>\n",
       "      <td>177.426990</td>\n",
       "    </tr>\n",
       "    <tr>\n",
       "      <td>3</td>\n",
       "      <td>69</td>\n",
       "      <td>181.892087</td>\n",
       "    </tr>\n",
       "    <tr>\n",
       "      <td>4</td>\n",
       "      <td>70</td>\n",
       "      <td>186.357184</td>\n",
       "    </tr>\n",
       "    <tr>\n",
       "      <td>5</td>\n",
       "      <td>71</td>\n",
       "      <td>190.822282</td>\n",
       "    </tr>\n",
       "    <tr>\n",
       "      <td>6</td>\n",
       "      <td>72</td>\n",
       "      <td>195.287379</td>\n",
       "    </tr>\n",
       "    <tr>\n",
       "      <td>7</td>\n",
       "      <td>73</td>\n",
       "      <td>199.752476</td>\n",
       "    </tr>\n",
       "    <tr>\n",
       "      <td>8</td>\n",
       "      <td>74</td>\n",
       "      <td>204.217574</td>\n",
       "    </tr>\n",
       "    <tr>\n",
       "      <td>9</td>\n",
       "      <td>75</td>\n",
       "      <td>208.682671</td>\n",
       "    </tr>\n",
       "    <tr>\n",
       "      <td>10</td>\n",
       "      <td>76</td>\n",
       "      <td>213.147768</td>\n",
       "    </tr>\n",
       "    <tr>\n",
       "      <td>11</td>\n",
       "      <td>77</td>\n",
       "      <td>217.612866</td>\n",
       "    </tr>\n",
       "    <tr>\n",
       "      <td>12</td>\n",
       "      <td>78</td>\n",
       "      <td>222.077963</td>\n",
       "    </tr>\n",
       "    <tr>\n",
       "      <td>13</td>\n",
       "      <td>79</td>\n",
       "      <td>226.543060</td>\n",
       "    </tr>\n",
       "  </tbody>\n",
       "</table>\n",
       "</div>"
      ],
      "text/plain": [
       "    ht  predict_wt\n",
       "0   66  168.496795\n",
       "1   67  172.961893\n",
       "2   68  177.426990\n",
       "3   69  181.892087\n",
       "4   70  186.357184\n",
       "5   71  190.822282\n",
       "6   72  195.287379\n",
       "7   73  199.752476\n",
       "8   74  204.217574\n",
       "9   75  208.682671\n",
       "10  76  213.147768\n",
       "11  77  217.612866\n",
       "12  78  222.077963\n",
       "13  79  226.543060"
      ]
     },
     "metadata": {},
     "output_type": "display_data"
    },
    {
     "name": "stdout",
     "output_type": "stream",
     "text": [
      "Training rsquared is  0.43807746842392203\n"
     ]
    },
    {
     "data": {
      "image/png": "[encoded data removed]",
      "text/plain": [
       "<Figure size 432x288 with 1 Axes>"
      ]
     },
     "metadata": {
      "needs_background": "light"
     },
     "output_type": "display_data"
    }
   ],
   "source": [
    "df = pd.read_csv(\"hockey_draftees_2005.csv\")\n",
    "\n",
    "\n",
    "# Make it and fit the model \n",
    "model = sm.ols('wt~ht',data = df).fit()\n",
    "# Make the scatter plot \n",
    "plt.scatter(x = df.wt, y = df.ht)\n",
    "\n",
    "\n",
    "#Generate and plot the predicted values\n",
    "T = pd.DataFrame({'ht':np.arange(66,80)})\n",
    "T['predict_wt']=model.predict(exog=T)\n",
    "display(T)\n",
    "\n",
    "print('Training rsquared is ',model.rsquared)"
   ]
  },
  {
   "cell_type": "markdown",
   "metadata": {},
   "source": [
    "### Question 5:  /4 Mark(s): Bootstrap confidence intervals on parameters\n",
    "\n",
    "How confident can we be about the relation between height and weight? \n",
    "To judge this we need confidence intervals let's use the bootstrap.\n",
    "\n",
    "Write a function called `bootstrap` which takes three arguments:\n",
    "\n",
    "* `data`, which is a dataframe having columns 'weight' and 'height'\n",
    "* `model` which is a statsmodel ols model. `data` should look the the data `model` was trained on so that we can use `model` to make predictions on `data`.\n",
    "* `numboot` which is an integer denoting how many bootstrap replications to perform.\n",
    "\n",
    "Write `bootstrap` to perform bootstrap resampling. You can use `pd.DataFrame.sample` with `replace = True` to perform the resampling.  `bootstrap` should return:\n",
    "params: a numpy array of size [numboot,numParams] of bootstraped parameter values. \n",
    "res   : a list of size numboot of the fitted models \n",
    "\n",
    "Here is the documentation for `pd.DataFrame.sample`: https://pandas.pydata.org/pandas-docs/stable/reference/api/pandas.DataFrame.sample.html\n",
    "\n",
    "Then call the function to get 1000 boostrap samples for the model 'wt~ht'. \n",
    "Make a joint scatter plot of the parameter value for the intercept and for the slope. \n",
    "Written answer: What do you notice? Why do you think the estimate for the intercept has such a high negative correlation with the slope? "
   ]
  },
  {
   "cell_type": "code",
   "execution_count": 17,
   "metadata": {},
   "outputs": [
    {
     "ename": "TypeError",
     "evalue": "cannot unpack non-iterable PathCollection object",
     "output_type": "error",
     "traceback": [
      "\u001b[0;31m---------------------------------------------------------------------------\u001b[0m",
      "\u001b[0;31mTypeError\u001b[0m                                 Traceback (most recent call last)",
      "\u001b[0;32m<ipython-input-17-987e1e17c633>\u001b[0m in \u001b[0;36m<module>\u001b[0;34m\u001b[0m\n\u001b[1;32m     33\u001b[0m \u001b[0;34m\u001b[0m\u001b[0m\n\u001b[1;32m     34\u001b[0m \u001b[0mparams\u001b[0m\u001b[0;34m[\u001b[0m\u001b[0;34m:\u001b[0m\u001b[0;34m,\u001b[0m\u001b[0;36m1\u001b[0m\u001b[0;34m]\u001b[0m\u001b[0;34m\u001b[0m\u001b[0;34m\u001b[0m\u001b[0m\n\u001b[0;32m---> 35\u001b[0;31m \u001b[0max\u001b[0m\u001b[0;34m,\u001b[0m \u001b[0mfig\u001b[0m \u001b[0;34m=\u001b[0m \u001b[0mplt\u001b[0m\u001b[0;34m.\u001b[0m\u001b[0mscatter\u001b[0m\u001b[0;34m(\u001b[0m\u001b[0mparams\u001b[0m\u001b[0;34m[\u001b[0m\u001b[0;34m:\u001b[0m\u001b[0;34m,\u001b[0m\u001b[0;36m0\u001b[0m\u001b[0;34m]\u001b[0m\u001b[0;34m,\u001b[0m\u001b[0mparams\u001b[0m\u001b[0;34m[\u001b[0m\u001b[0;34m:\u001b[0m\u001b[0;34m,\u001b[0m\u001b[0;36m1\u001b[0m\u001b[0;34m]\u001b[0m\u001b[0;34m)\u001b[0m\u001b[0;34m\u001b[0m\u001b[0;34m\u001b[0m\u001b[0m\n\u001b[0m\u001b[1;32m     36\u001b[0m \u001b[0;34m\u001b[0m\u001b[0m\n\u001b[1;32m     37\u001b[0m \u001b[0;34m\u001b[0m\u001b[0m\n",
      "\u001b[0;31mTypeError\u001b[0m: cannot unpack non-iterable PathCollection object"
     ]
    },
    {
     "data": {
      "image/png": "[encoded data removed]",
      "text/plain": [
       "<Figure size 432x288 with 1 Axes>"
      ]
     },
     "metadata": {
      "needs_background": "light"
     },
     "output_type": "display_data"
    }
   ],
   "source": [
    "def bootstrap(data, formula, numboot):\n",
    "    # Fit the model to the original data, just to get the number of params  \n",
    "    model = sm.ols(formula,data=data).fit()\n",
    "    numParams = model.params.size\n",
    "    \n",
    "    # Initialize somewhere to keep your bootstrapped coefficients.\n",
    "    # Create an array which has numboot rows and an appropirate number of columns\n",
    "    # You can insert estimated coefficients in the for loop.\n",
    "    \n",
    "    params = []\n",
    "    res = []\n",
    "    for i in range(numboot):\n",
    "        # Bootstrap your data set\n",
    "        df_bootstrapped = data.sample(len(data),replace = True )\n",
    "        # Refit your model\n",
    "        model = sm.ols(formula,data=df_bootstrapped).fit()\n",
    "        \n",
    "        #Store your parameters in the array you initialized\n",
    "        params.append(model.params.values)\n",
    "        \n",
    "        #Save all the models you fit to be returned. You will need them later.\n",
    "        res.append(model)\n",
    "        \n",
    "       \n",
    "    params = np.asarray(params)    \n",
    "    return res,params\n",
    "\n",
    "\n",
    "resB,params = bootstrap(df,'wt~ht',100)\n",
    "\n",
    "\n",
    "#Make the scatter plot.  Use seaborn or matplotlib.\n",
    "\n",
    "params[:,1]\n",
    "ax, fig = plt.scatter(params[:,0],params[:,1])\n",
    "\n",
    "\n"
   ]
  },
  {
   "cell_type": "markdown",
   "metadata": {},
   "source": [
    "I find as intercept increase, the slope variable decrese."
   ]
  },
  {
   "cell_type": "markdown",
   "metadata": {},
   "source": [
    "### Question 6: /2 Mark(s)\n",
    "\n",
    "Plot the bootstrap estimates for the slope as a histogram.  Use your samples to compute a 95% confidence interval. How can you interpret this confindence interval?  "
   ]
  },
  {
   "cell_type": "code",
   "execution_count": 18,
   "metadata": {},
   "outputs": [
    {
     "name": "stdout",
     "output_type": "stream",
     "text": [
      "My confidence interval is between 3.3199593006253068  and  5.962749548913454\n"
     ]
    },
    {
     "data": {
      "image/png": "[encoded data removed]",
      "text/plain": [
       "<Figure size 432x288 with 1 Axes>"
      ]
     },
     "metadata": {
      "needs_background": "light"
     },
     "output_type": "display_data"
    }
   ],
   "source": [
    "#Plot the histogram for the slope\n",
    "slope_para = params[:,1]\n",
    "sns.distplot(slope_para)\n",
    "#Compute the confidence interval from your bootstrapped estimates.\n",
    "boot_ci = np.zeros(2)\n",
    "boot_ci = np.quantile(slope_para, [0.025, 0.975])\n",
    "\n",
    "ci_lower = boot_ci[0]\n",
    "ci_upper = boot_ci[1]\n",
    "\n",
    "print('My confidence interval is between', ci_lower, ' and ', ci_upper)"
   ]
  },
  {
   "cell_type": "markdown",
   "metadata": {},
   "source": [
    "### Question 7: /3 Mark(s)\n",
    "\n",
    "Draw again a scatter plot of ht against weight \n",
    "Use the first 20 fitted bootstrap models to derive predictions for the height ranging from 60 to 88. Draw all these lines onto your scatter plot. \n",
    "\n",
    "Written answer: Where are we most uncertain in our prediction about the weight of a player? How does the negative correlation between slope and intercept play a role here?  Why is the spread of the prediction in the mean weight so much lower than the variability of our intercept parameter? "
   ]
  },
  {
   "cell_type": "code",
   "execution_count": 46,
   "metadata": {},
   "outputs": [
    {
     "name": "stdout",
     "output_type": "stream",
     "text": [
      "28\n"
     ]
    },
    {
     "data": {
      "image/png": "[encoded data removed]",
      "text/plain": [
       "<Figure size 432x288 with 1 Axes>"
      ]
     },
     "metadata": {
      "needs_background": "light"
     },
     "output_type": "display_data"
    }
   ],
   "source": [
    "# plot the scatter plot\n",
    "\n",
    "range_data = pd.DataFrame({\"ht\":np.arange(60,88)})\n",
    "print(len(range_data))\n",
    "ypred = np.zeros((20,len(range_data)))\n",
    "for i in range(20):\n",
    "    ypred[i,:] = resB[i].predict(exog = range_data)\n",
    "     \n",
    "# plot the model predictions\n",
    "\n",
    "ypred\n",
    "for i in range(20):\n",
    "    plt.scatter(range_data,ypred[i,:])\n",
    "    plt.plot(range_data,ypred[i,:])\n",
    "    \n",
    "\n",
    "    \n",
    "    "
   ]
  },
  {
   "cell_type": "markdown",
   "metadata": {},
   "source": [
    "for this plot, we can see that the most uncertaity happen when height = 60 or height = 80, the negative correlation make the line with high intercept low slope and vice versa. so left of middle point, the green green line was on the top, but right of middle point, the green line go into the bottom. it seems like every line pass through a point arond(mean(x), mean(y)). "
   ]
  },
  {
   "cell_type": "markdown",
   "metadata": {},
   "source": [
    "### Question 8:  /3 Mark(s)\n",
    "\n",
    "Now, let's see how well our model performs out of sample.  Load in the `hockey_draftees_test.csv` file into a dataframe.  \n",
    "Use your fitted `model` to make predictions. \n",
    "\n",
    "Make a scatter plot of the test data and superimpose the prediction of the model. \n",
    "To evaluate this prediction, calculate the r-square value for the out of sample (oos) data.  Statsmodels doesn't provide a function to compute r-squared on new data.  You will have to write one yourself or find one that performs the computation for you."
   ]
  },
  {
   "cell_type": "code",
   "execution_count": 45,
   "metadata": {},
   "outputs": [
    {
     "name": "stdout",
     "output_type": "stream",
     "text": [
      "Out of sample rsquared is  -0.015001136144208616\n"
     ]
    },
    {
     "data": {
      "image/png": "[encoded data removed]",
      "text/plain": [
       "<Figure size 432x288 with 1 Axes>"
      ]
     },
     "metadata": {
      "needs_background": "light"
     },
     "output_type": "display_data"
    }
   ],
   "source": [
    "df_test=pd.read_csv('hockey_draftees_test.csv')\n",
    "\n",
    "# Make the scatter plot \n",
    "plt.scatter(x = df_test.ht,y= df_test.wt)\n",
    "\n",
    "#Generate and plot the predicted values\n",
    "pred_value = model.predict(exog = df_test.ht)\n",
    "\n",
    "plt.plot(df_test.ht, pred_value)\n",
    "\n",
    "\n",
    "\n",
    "# Now do the prediction for the test data and compute R2\n",
    "rsquared_oos = 1 - sum((df_test.wt - pred_value )**2)/sum((df_test.wt - np.mean(df_test.wt))**2)\n",
    "\n",
    "\n",
    "print('Out of sample rsquared is ', rsquared_oos)\n",
    "\n"
   ]
  },
  {
   "cell_type": "code",
   "execution_count": null,
   "metadata": {},
   "outputs": [],
   "source": [
    "the r square is negative, which means nothing is explained by model, the model fit less well than a horizontal line."
   ]
  },
  {
   "cell_type": "markdown",
   "metadata": {},
   "source": [
    "### Follow These Steps!\n",
    "Once you are finished, ensure to complete the following steps.\n",
    "\n",
    "1.  Restart your kernel by clicking 'Kernel' > 'Restart & Run All'.\n",
    "\n",
    "2.  Fix any errors which result from this.\n",
    "\n",
    "3.  Repeat steps 1. and 2. until your notebook runs without errors.\n",
    "\n",
    "4.  Submit your completed notebook to OWL by the deadline."
   ]
  },
  {
   "cell_type": "code",
   "execution_count": null,
   "metadata": {},
   "outputs": [],
   "source": []
  },
  {
   "cell_type": "code",
   "execution_count": null,
   "metadata": {},
   "outputs": [],
   "source": []
  },
  {
   "cell_type": "code",
   "execution_count": null,
   "metadata": {},
   "outputs": [],
   "source": []
  }
 ],
 "metadata": {
  "kernelspec": {
   "display_name": "Python 3",
   "language": "python",
   "name": "python3"
  },
  "language_info": {
   "codemirror_mode": {
    "name": "ipython",
    "version": 3
   },
   "file_extension": ".py",
   "mimetype": "text/x-python",
   "name": "python",
   "nbconvert_exporter": "python",
   "pygments_lexer": "ipython3",
   "version": "3.7.4"
  }
 },
 "nbformat": 4,
 "nbformat_minor": 4
}
