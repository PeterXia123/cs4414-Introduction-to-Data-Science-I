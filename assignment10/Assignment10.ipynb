{
 "cells": [
  {
   "cell_type": "code",
   "execution_count": 14,
   "metadata": {},
   "outputs": [],
   "source": [
    "import numpy as np\n",
    "import matplotlib.pyplot as plt\n",
    "import matplotlib as mpl\n",
    "from sklearn.tree import DecisionTreeClassifier, DecisionTreeRegressor, export_graphviz\n",
    "from sklearn.ensemble import BaggingClassifier, RandomForestClassifier, BaggingRegressor, RandomForestRegressor\n",
    "from sklearn.datasets import make_classification\n",
    "from sklearn.model_selection import GridSearchCV, train_test_split\n",
    "from sklearn.metrics import accuracy_score\n",
    "#import pydotplus\n",
    "from IPython.display import Image\n",
    "import pandas as pd\n",
    "from functools import reduce\n",
    "from tqdm import tqdm\n",
    "from xgboost import XGBClassifier\n",
    "\n"
   ]
  },
  {
   "cell_type": "markdown",
   "metadata": {},
   "source": [
    "# Assignment 10: Nested Spheres\n",
    "\n",
    "Simulation is an incredibly useful tool in data science.  We can use simulation to evaluate how algorithms perform against ground truth, and how algorithms compare to one another.\n",
    "\n",
    "In this assignment, you will be implementing and extending the nested spheres simulation study found in *Elements of Statistical Learning* page 339.  \n",
    "\n",
    "# Nested Spheres\n",
    "\n",
    "Consider a dataset which contains 10 features $X_1 \\,, X_2 \\,, \\cdots \\,, X_{10}$.  The features are standard independent Gaussian random variables.  That is to say\n",
    "\n",
    "$$ X_j \\sim \\operatorname{Normal}(0,1) \\quad \\forall j = 1 \\dots 10$$\n",
    "\n",
    "We are going to use these features to study a classification problem.  You will have to create the target variable, $Y$ by computing the following rule:\n",
    "\n",
    "$$ Y = \\begin{cases}  1 \\quad \\mbox{ if } \\sum_{j=1}^{10} X^2_j>9.34 \\\\ -1 \\quad  \\mbox{else} \\end{cases}$$\n",
    "\n",
    "# The Simulation Study\n",
    "\n",
    "Follow these steps to complete the assignment. \n",
    "\n",
    "## Steps:\n",
    "\n",
    "1. Generate a training data set of 2000 observations according to the description above.  Label each of these training examples according to the rule above.\n",
    "\n",
    "2. Train a bagged estimator, a random forrest with `max_features=1`, a random forest with `max_features=3`, and an additional model of your choice (you can increase max features again, or you can explore a boosted estimator).  Use 500 trees in your random forests and bagged estimator.\n",
    "\n",
    "3.  Generate a testing data set of 10,000 observations according to the description above.  Label each of these training examples according to the rule above.\n",
    "\n",
    "4.  Use each model to predict on the testing data.  Record the testing error rate (that is 1 - accuracy).\n",
    "\n",
    "\n",
    "Repeat these steps 50 times.  Plot the error rates as a box plot by model to complete the assignment.\n",
    "\n"
   ]
  },
  {
   "cell_type": "code",
   "execution_count": 3,
   "metadata": {},
   "outputs": [],
   "source": [
    "def generate_data(N):\n",
    "    \n",
    "    '''\n",
    "    This function creates the data according to the rule above.\n",
    "    \n",
    "    Inputs:\n",
    "    N - integer.  The number of samples to draw.\n",
    "    '''\n",
    "    # Some logic to prevent some errors\n",
    "\n",
    "    # Generate the features to learn from.\n",
    "    # Features are iid standard gaussian, so draw from a multivariable standar normal in which the \n",
    "    # covariance matrix is the identity\n",
    "    \n",
    "    X = np.random.normal(size = (N, 10))\n",
    "    # Calculate the sum to determine if y=0 or y=1\n",
    "    \n",
    "    radius_squared  = np.linalg.norm(X, 2, axis = 1)**2\n",
    "    \n",
    "    y = radius_squared>9.34\n",
    "    \n",
    "    y = y.astype(int)\n",
    "\n",
    "    return X,y\n",
    "\n",
    "\n"
   ]
  },
  {
   "cell_type": "code",
   "execution_count": 23,
   "metadata": {},
   "outputs": [
    {
     "data": {
      "text/plain": [
       "<matplotlib.axes._subplots.AxesSubplot at 0x1a252a9490>"
      ]
     },
     "execution_count": 23,
     "metadata": {},
     "output_type": "execute_result"
    },
    {
     "data": {
      "image/png": "[encoded data removed]",
      "text/plain": [
       "<Figure size 432x288 with 1 Axes>"
      ]
     },
     "metadata": {
      "needs_background": "light"
     },
     "output_type": "display_data"
    }
   ],
   "source": [
    "number_of_simulations = 50\n",
    "err= np.zeros(number_of_simulations)\n",
    "err_rf1= np.zeros(number_of_simulations)\n",
    "err_rf2= np.zeros(number_of_simulations)\n",
    "err_rf3= np.zeros(number_of_simulations)\n",
    "err_boost = np.zeros(number_of_simulations)\n",
    "\n",
    "for i in range(number_of_simulations):\n",
    "    #step1 \n",
    "    Xtrain, ytrain = generate_data(2000)\n",
    "    bag = BaggingClassifier(DecisionTreeClassifier(),n_estimators=500)\n",
    "    rf1 = RandomForestClassifier(n_estimators=500,max_features=1)\n",
    "    rf3 = RandomForestClassifier(n_estimators=500,max_features=3)\n",
    "    boost = XGBClassifier(n_estimators=500)\n",
    "\n",
    "# fit model no training data\n",
    "\n",
    "    #step2 fit the model\n",
    "    bag.fit(Xtrain, ytrain)\n",
    "    rf1.fit(Xtrain, ytrain)\n",
    "    rf3.fit(Xtrain, ytrain)\n",
    "    boost.fit(Xtrain, ytrain)\n",
    "# fit model no training data\n",
    "\n",
    "    #step3 generate test data \n",
    "    Xtest,ytest = generate_data(10000)\n",
    "    #step4 \n",
    "    ypred = bag.predict(Xtest)\n",
    "    ypred_rf1 = rf1.predict(Xtest)\n",
    "    ypred_rf3 = rf3.predict(Xtest)\n",
    "    ypred_boost = boost.predict(Xtest)\n",
    "    #calculate the errror\n",
    "    err[i] = 1 - accuracy_score(ytest,ypred)\n",
    "    err_rf1[i] = 1 - accuracy_score(ytest,ypred_rf1)\n",
    "    err_rf3[i] = 1- accuracy_score(ytest, ypred_rf3)\n",
    "    err_boost[i] = 1 - accuracy_score(ytest,ypred_boost)\n",
    "    \n",
    "    \n",
    "    \n",
    "    \n",
    "estimators = {'bag': err, 'rf1': err_rf1,'rf3':err_rf3,'boost':err_boost}\n",
    "\n",
    "df = pd.DataFrame(estimators)\n",
    "\n",
    "\n",
    "df.boxplot()\n",
    "\n",
    "\n",
    "\n",
    "\n"
   ]
  },
  {
   "cell_type": "code",
   "execution_count": 15,
   "metadata": {},
   "outputs": [],
   "source": [
    "?XGBClassifier"
   ]
  },
  {
   "cell_type": "markdown",
   "metadata": {},
   "source": [
    "from the barplot we can see the bagging has the highest error rate. followed by random forest with 3 max_features. and the random forest with 1 max_feature has the second lowest error rate. i think the main reason why rf1 is better than rf3 is the features space is only 10. finallly, the boost method has the lowest error rate."
   ]
  }
 ],
 "metadata": {
  "kernelspec": {
   "display_name": "Python 3",
   "language": "python",
   "name": "python3"
  },
  "language_info": {
   "codemirror_mode": {
    "name": "ipython",
    "version": 3
   },
   "file_extension": ".py",
   "mimetype": "text/x-python",
   "name": "python",
   "nbconvert_exporter": "python",
   "pygments_lexer": "ipython3",
   "version": "3.7.6"
  }
 },
 "nbformat": 4,
 "nbformat_minor": 4
}
