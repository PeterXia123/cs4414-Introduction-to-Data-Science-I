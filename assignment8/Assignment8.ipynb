{
 "cells": [
  {
   "cell_type": "markdown",
   "metadata": {},
   "source": [
    "# Assignment 8: Classification with SVMs\n",
    "\n",
    "# Total: 20 Marks \n",
    "## Instructions\n",
    "\n",
    "* Complete the assignment\n",
    "\n",
    "* Once the notebook is complete, restart your kernel and rerun your cells\n",
    "\n",
    "* Submit this notebook to owl by the deadline\n",
    "\n"
   ]
  },
  {
   "cell_type": "code",
   "execution_count": 1,
   "metadata": {},
   "outputs": [],
   "source": [
    "# You may need these\n",
    "import matplotlib.pyplot as plt \n",
    "import seaborn as sns\n",
    "import numpy as np\n",
    "import pandas as pd\n",
    "from sklearn.datasets import make_blobs, make_moons\n",
    "from sklearn.model_selection import cross_validate,GridSearchCV\n",
    "from sklearn.metrics import accuracy_score, make_scorer\n",
    "import sklearn.svm as svm\n",
    "from sklearn.model_selection import train_test_split, cross_val_score\n",
    "from sklearn.pipeline import Pipeline\n",
    "from sklearn.preprocessing import StandardScaler, PolynomialFeatures\n",
    "from sklearn.metrics import recall_score, make_scorer, confusion_matrix\n",
    "from sklearn.utils.multiclass import unique_labels\n",
    "\n",
    "import matplotlib.pyplot as plt\n",
    "%matplotlib inline"
   ]
  },
  {
   "cell_type": "markdown",
   "metadata": {},
   "source": [
    "## Part A: 2 Mark\n",
    "\n",
    "Read in the `emails.txt` dataset. Remove the `time`, `winner` and `number` columns."
   ]
  },
  {
   "cell_type": "code",
   "execution_count": 2,
   "metadata": {},
   "outputs": [
    {
     "name": "stdout",
     "output_type": "stream",
     "text": [
      "Index(['spam', 'to_multiple', 'from', 'cc', 'sent_email', 'image', 'attach',\n",
      "       'dollar', 'inherit', 'viagra', 'password', 'num_char', 'line_breaks',\n",
      "       'format', 're_subj', 'exclaim_subj', 'urgent_subj', 'exclaim_mess'],\n",
      "      dtype='object')\n"
     ]
    },
    {
     "data": {
      "text/html": [
       "<div>\n",
       "<style scoped>\n",
       "    .dataframe tbody tr th:only-of-type {\n",
       "        vertical-align: middle;\n",
       "    }\n",
       "\n",
       "    .dataframe tbody tr th {\n",
       "        vertical-align: top;\n",
       "    }\n",
       "\n",
       "    .dataframe thead th {\n",
       "        text-align: right;\n",
       "    }\n",
       "</style>\n",
       "<table border=\"1\" class=\"dataframe\">\n",
       "  <thead>\n",
       "    <tr style=\"text-align: right;\">\n",
       "      <th></th>\n",
       "      <th>spam</th>\n",
       "      <th>to_multiple</th>\n",
       "      <th>from</th>\n",
       "      <th>cc</th>\n",
       "      <th>sent_email</th>\n",
       "      <th>image</th>\n",
       "      <th>attach</th>\n",
       "      <th>dollar</th>\n",
       "      <th>inherit</th>\n",
       "      <th>viagra</th>\n",
       "      <th>password</th>\n",
       "      <th>num_char</th>\n",
       "      <th>line_breaks</th>\n",
       "      <th>format</th>\n",
       "      <th>re_subj</th>\n",
       "      <th>exclaim_subj</th>\n",
       "      <th>urgent_subj</th>\n",
       "      <th>exclaim_mess</th>\n",
       "    </tr>\n",
       "  </thead>\n",
       "  <tbody>\n",
       "    <tr>\n",
       "      <td>0</td>\n",
       "      <td>0</td>\n",
       "      <td>0</td>\n",
       "      <td>1</td>\n",
       "      <td>0</td>\n",
       "      <td>0</td>\n",
       "      <td>0</td>\n",
       "      <td>0</td>\n",
       "      <td>0</td>\n",
       "      <td>0</td>\n",
       "      <td>0</td>\n",
       "      <td>0</td>\n",
       "      <td>11.370</td>\n",
       "      <td>202</td>\n",
       "      <td>1</td>\n",
       "      <td>0</td>\n",
       "      <td>0</td>\n",
       "      <td>0</td>\n",
       "      <td>0</td>\n",
       "    </tr>\n",
       "    <tr>\n",
       "      <td>1</td>\n",
       "      <td>0</td>\n",
       "      <td>0</td>\n",
       "      <td>1</td>\n",
       "      <td>0</td>\n",
       "      <td>0</td>\n",
       "      <td>0</td>\n",
       "      <td>0</td>\n",
       "      <td>0</td>\n",
       "      <td>0</td>\n",
       "      <td>0</td>\n",
       "      <td>0</td>\n",
       "      <td>10.504</td>\n",
       "      <td>202</td>\n",
       "      <td>1</td>\n",
       "      <td>0</td>\n",
       "      <td>0</td>\n",
       "      <td>0</td>\n",
       "      <td>1</td>\n",
       "    </tr>\n",
       "    <tr>\n",
       "      <td>2</td>\n",
       "      <td>0</td>\n",
       "      <td>0</td>\n",
       "      <td>1</td>\n",
       "      <td>0</td>\n",
       "      <td>0</td>\n",
       "      <td>0</td>\n",
       "      <td>0</td>\n",
       "      <td>4</td>\n",
       "      <td>1</td>\n",
       "      <td>0</td>\n",
       "      <td>0</td>\n",
       "      <td>7.773</td>\n",
       "      <td>192</td>\n",
       "      <td>1</td>\n",
       "      <td>0</td>\n",
       "      <td>0</td>\n",
       "      <td>0</td>\n",
       "      <td>6</td>\n",
       "    </tr>\n",
       "    <tr>\n",
       "      <td>3</td>\n",
       "      <td>0</td>\n",
       "      <td>0</td>\n",
       "      <td>1</td>\n",
       "      <td>0</td>\n",
       "      <td>0</td>\n",
       "      <td>0</td>\n",
       "      <td>0</td>\n",
       "      <td>0</td>\n",
       "      <td>0</td>\n",
       "      <td>0</td>\n",
       "      <td>0</td>\n",
       "      <td>13.256</td>\n",
       "      <td>255</td>\n",
       "      <td>1</td>\n",
       "      <td>0</td>\n",
       "      <td>0</td>\n",
       "      <td>0</td>\n",
       "      <td>48</td>\n",
       "    </tr>\n",
       "    <tr>\n",
       "      <td>4</td>\n",
       "      <td>0</td>\n",
       "      <td>0</td>\n",
       "      <td>1</td>\n",
       "      <td>0</td>\n",
       "      <td>0</td>\n",
       "      <td>0</td>\n",
       "      <td>0</td>\n",
       "      <td>0</td>\n",
       "      <td>0</td>\n",
       "      <td>0</td>\n",
       "      <td>2</td>\n",
       "      <td>1.231</td>\n",
       "      <td>29</td>\n",
       "      <td>0</td>\n",
       "      <td>0</td>\n",
       "      <td>0</td>\n",
       "      <td>0</td>\n",
       "      <td>1</td>\n",
       "    </tr>\n",
       "  </tbody>\n",
       "</table>\n",
       "</div>"
      ],
      "text/plain": [
       "   spam  to_multiple  from  cc  sent_email  image  attach  dollar  inherit  \\\n",
       "0     0            0     1   0           0      0       0       0        0   \n",
       "1     0            0     1   0           0      0       0       0        0   \n",
       "2     0            0     1   0           0      0       0       4        1   \n",
       "3     0            0     1   0           0      0       0       0        0   \n",
       "4     0            0     1   0           0      0       0       0        0   \n",
       "\n",
       "   viagra  password  num_char  line_breaks  format  re_subj  exclaim_subj  \\\n",
       "0       0         0    11.370          202       1        0             0   \n",
       "1       0         0    10.504          202       1        0             0   \n",
       "2       0         0     7.773          192       1        0             0   \n",
       "3       0         0    13.256          255       1        0             0   \n",
       "4       0         2     1.231           29       0        0             0   \n",
       "\n",
       "   urgent_subj  exclaim_mess  \n",
       "0            0             0  \n",
       "1            0             1  \n",
       "2            0             6  \n",
       "3            0            48  \n",
       "4            0             1  "
      ]
     },
     "execution_count": 2,
     "metadata": {},
     "output_type": "execute_result"
    }
   ],
   "source": [
    "df = pd.read_csv(\"email.txt\", delimiter = \"\\t\")\n",
    "model_data = df.drop(['time','winner','number'], axis = 'columns')\n",
    "print(model_data.columns)\n",
    "model_data.head()\n"
   ]
  },
  {
   "cell_type": "markdown",
   "metadata": {},
   "source": [
    "## Part B: 2 Mark\n",
    "\n",
    "Split the data into train and test.  Hold out 50% of observations as the test set.  Pass `random_state=0` to `train_test_split` to ensure you get the same train and tests sets as the solution."
   ]
  },
  {
   "cell_type": "code",
   "execution_count": 3,
   "metadata": {},
   "outputs": [],
   "source": [
    "X = model_data.drop(\"spam\", axis=\"columns\").astype(\"float\").values\n",
    "y = model_data.spam.values\n",
    "Xtrain, Xtest, ytrain, ytest = train_test_split(X,\n",
    "                                                y, \n",
    "                                                test_size = 0.5, \n",
    "                                                random_state = 0)\n"
   ]
  },
  {
   "cell_type": "markdown",
   "metadata": {},
   "source": [
    "## Part C: 1 Mark\n",
    "\n",
    "Create a pipeline for your support vector machine.  You can start with a `kernel=\"rbf\"` and `gamma=\"auto\"`.  Scale your inputs before passing them to your model by including a `StandardScaler`."
   ]
  },
  {
   "cell_type": "code",
   "execution_count": 4,
   "metadata": {},
   "outputs": [],
   "source": [
    "model_pipeline = Pipeline([\n",
    "    ('StandardScaler', StandardScaler(with_mean = True, with_std = True)),\n",
    "    ('SVM',svm.SVC(kernel=\"rbf\",gamma =\"auto\"))\n",
    "    ])\n",
    "\n"
   ]
  },
  {
   "cell_type": "markdown",
   "metadata": {},
   "source": [
    "## Part D: 3 Marks\n",
    "\n",
    "Use your model to construct a confusion matrix by fitting and predicting on the training data (I've inlcluded a little helper function to make looking at the confusion matrix a little easier). Then answer the following using the confusion matrix (don't use sklearn's functions):\n",
    "\n",
    "* What is your model's training accuracy?\n",
    "* What is your model's training precision?\n",
    "* What is your model's training recall?"
   ]
  },
  {
   "cell_type": "code",
   "execution_count": 5,
   "metadata": {},
   "outputs": [],
   "source": [
    "def plot_confusion_matrix(y_true, y_pred, classes,\n",
    "                          normalize=False,\n",
    "                          title=None,\n",
    "                          cmap=plt.cm.Blues):\n",
    "    \"\"\"\n",
    "    This function prints and plots the confusion matrix.\n",
    "    Normalization can be applied by setting `normalize=True`.\n",
    "    \"\"\"\n",
    "    if not title:\n",
    "        if normalize:\n",
    "            title = 'Normalized confusion matrix'\n",
    "        else:\n",
    "            title = 'Confusion matrix, without normalization'\n",
    "\n",
    "    # Compute confusion matrix\n",
    "    cm = confusion_matrix(y_true, y_pred)\n",
    "    # Only use the labels that appear in the data\n",
    "    classes = classes[unique_labels(y_true, y_pred)]\n",
    "    if normalize:\n",
    "        cm = cm.astype('float') / cm.sum(axis=1)[:, np.newaxis]\n",
    "        print(\"Normalized confusion matrix\")\n",
    "    else:\n",
    "        print('Confusion matrix, without normalization')\n",
    "\n",
    "    fig, ax = plt.subplots()\n",
    "    ax.axis('equal')\n",
    "    im = ax.imshow(cm, interpolation='nearest', cmap=cmap)\n",
    "    ax.figure.colorbar(im, ax=ax)\n",
    "    # We want to show all ticks...\n",
    "    ax.set(xticks=np.arange(cm.shape[1]),\n",
    "           yticks=np.arange(cm.shape[0]),\n",
    "           # ... and label them with the respective list entries\n",
    "           xticklabels=classes, yticklabels=classes,\n",
    "           title=title,\n",
    "           ylabel='True label',\n",
    "           xlabel='Predicted label')\n",
    "\n",
    "    # Rotate the tick labels and set their alignment.\n",
    "    plt.setp(ax.get_xticklabels(), rotation=45, ha=\"right\",\n",
    "             rotation_mode=\"anchor\")\n",
    "\n",
    "    # Loop over data dimensions and create text annotations.\n",
    "    fmt = '.2f' if normalize else 'd'\n",
    "    thresh = cm.max() / 2.\n",
    "    for i in range(cm.shape[0]):\n",
    "        for j in range(cm.shape[1]):\n",
    "            ax.text(j, i, format(cm[i, j], fmt),\n",
    "                    ha=\"center\", va=\"center\",\n",
    "                    color=\"white\" if cm[i, j] > thresh else \"black\")\n",
    "    fig.tight_layout();\n",
    "    return ax\n"
   ]
  },
  {
   "cell_type": "code",
   "execution_count": 6,
   "metadata": {},
   "outputs": [],
   "source": [
    "def check_performance(yhat, y):\n",
    "    tp = sum(np.logical_and(yhat == 1, y == 1))\n",
    "    tn = sum(np.logical_and(yhat == 0, y == 0))\n",
    "    fp = sum(np.logical_and(yhat == 1, y == 0))\n",
    "    fn = sum(np.logical_and(yhat == 0, y == 1))\n",
    "\n",
    "    \n",
    "    # Accuracy\n",
    "    accuracy = (tp + tn) / (tp + tn + fp + fn)\n",
    "    \n",
    "    # Precision\n",
    "    precision = tp / (tp + fp)\n",
    "    \n",
    "    # Recall\n",
    "    recall = tp / (tp + fn)  \n",
    "    \n",
    "    \n",
    "    print(\"accuracy:\",round(accuracy,3),\"precision:\",round(precision,3),\n",
    "          \"recall:\",round(recall,3))\n",
    "\n",
    "\n",
    "    \n",
    "    \n",
    "    \n",
    "    \n",
    "    "
   ]
  },
  {
   "cell_type": "code",
   "execution_count": 7,
   "metadata": {},
   "outputs": [
    {
     "name": "stdout",
     "output_type": "stream",
     "text": [
      "Confusion matrix, without normalization\n"
     ]
    },
    {
     "data": {
      "text/plain": [
       "<matplotlib.axes._subplots.AxesSubplot at 0x1a24c361d0>"
      ]
     },
     "execution_count": 7,
     "metadata": {},
     "output_type": "execute_result"
    },
    {
     "data": {
      "image/png": "[encoded data removed]",
      "text/plain": [
       "<Figure size 432x288 with 2 Axes>"
      ]
     },
     "metadata": {
      "needs_background": "light"
     },
     "output_type": "display_data"
    }
   ],
   "source": [
    "model_pipeline.fit(Xtrain,ytrain)\n",
    "y_pred = model_pipeline.predict(Xtrain)\n",
    "plot_confusion_matrix(ytrain, y_pred, np.array([0,1]),\n",
    "                          normalize=False,\n",
    "                          title=None,\n",
    "                          cmap=plt.cm.Blues)\n",
    "\n",
    "\n",
    "\n",
    "\n"
   ]
  },
  {
   "cell_type": "code",
   "execution_count": 8,
   "metadata": {},
   "outputs": [
    {
     "name": "stdout",
     "output_type": "stream",
     "text": [
      "accuracy: 0.915 precision: 0.826 recall: 0.105\n"
     ]
    }
   ],
   "source": [
    "check_performance(y_pred,ytrain)\n"
   ]
  },
  {
   "cell_type": "markdown",
   "metadata": {},
   "source": [
    "# Part E: 4 Marks\n",
    "\n",
    "Imagine you are designing a model to filter out spam.  \n",
    "\n",
    "* Would you want your model to have a high a high sensitivity?  Why or why not?  Answer in no more than 3 sentences.\n",
    "\n",
    "* Would you wanr your model to have a low specificity? Why or why not? Answer in no more than 3 sentences\n",
    "\n",
    "---\n"
   ]
  },
  {
   "cell_type": "markdown",
   "metadata": {},
   "source": [
    "1. we want to have a high sensitivity because high sensitivity means high percentage of spams email were detected.\n",
    "2. we don't want the model has low specificity, because low specificity means very few of non-spams email were treated as non-spam email.\n",
    "\n"
   ]
  },
  {
   "cell_type": "markdown",
   "metadata": {},
   "source": [
    "## Part E:  1 Mark\n",
    "\n",
    "Estimate your support vector machine's out of sample sensitivity by using 5 fold cross validation."
   ]
  },
  {
   "cell_type": "code",
   "execution_count": 9,
   "metadata": {},
   "outputs": [
    {
     "data": {
      "text/plain": [
       "0.05555555555555556"
      ]
     },
     "execution_count": 9,
     "metadata": {},
     "output_type": "execute_result"
    }
   ],
   "source": [
    "def sensitivity_score(y,yhat):\n",
    "    TP = np.logical_and(y==1,yhat==1).sum()\n",
    "    FN = np.logical_and(y==1,yhat==0).sum()\n",
    "    return TP/(TP+FN)\n",
    "scoring ={'sens':make_scorer(sensitivity_score)}\n",
    "scores = cross_validate(model_pipeline, Xtrain, ytrain, scoring=scoring,cv=5, return_train_score=True)\n",
    "np.mean(scores['test_sens'])\n"
   ]
  },
  {
   "cell_type": "code",
   "execution_count": null,
   "metadata": {},
   "outputs": [],
   "source": []
  },
  {
   "cell_type": "markdown",
   "metadata": {},
   "source": [
    "## Part F: 4 Marks\n",
    "\n",
    "Read the documentation for `GridSearchCV` in order to learn how to montior multiple metrics during grid search cross validation.  Once you have learned how to keep track of multiple scores, implement a grid search for your pipeline which monitors sensitivity and specificity. You will need to tell `GridsearchCV` which to prefer when it does the model selection (see the `refit` argument in the documentation). Note, sklearn does not have a `specificity_score` so you need to write your own function to do so. Search over your pipeline's kernel and gamma using `kernel = ['rbf','sigmoid']` and `gamma = np.linspace(1e-5, 5)`."
   ]
  },
  {
   "cell_type": "code",
   "execution_count": 10,
   "metadata": {},
   "outputs": [
    {
     "name": "stderr",
     "output_type": "stream",
     "text": [
      "/Users/yufeixia/opt/anaconda3/lib/python3.7/site-packages/sklearn/model_selection/_search.py:814: DeprecationWarning: The default of the `iid` parameter will change from True to False in version 0.22 and will be removed in 0.24. This will change numeric results when test-set sizes are unequal.\n",
      "  DeprecationWarning)\n"
     ]
    },
    {
     "data": {
      "text/html": [
       "<div>\n",
       "<style scoped>\n",
       "    .dataframe tbody tr th:only-of-type {\n",
       "        vertical-align: middle;\n",
       "    }\n",
       "\n",
       "    .dataframe tbody tr th {\n",
       "        vertical-align: top;\n",
       "    }\n",
       "\n",
       "    .dataframe thead th {\n",
       "        text-align: right;\n",
       "    }\n",
       "</style>\n",
       "<table border=\"1\" class=\"dataframe\">\n",
       "  <thead>\n",
       "    <tr style=\"text-align: right;\">\n",
       "      <th></th>\n",
       "      <th>mean_fit_time</th>\n",
       "      <th>std_fit_time</th>\n",
       "      <th>mean_score_time</th>\n",
       "      <th>std_score_time</th>\n",
       "      <th>param_SVM__gamma</th>\n",
       "      <th>param_SVM__kernel</th>\n",
       "      <th>params</th>\n",
       "      <th>split0_test_spe</th>\n",
       "      <th>split1_test_spe</th>\n",
       "      <th>split2_test_spe</th>\n",
       "      <th>...</th>\n",
       "      <th>std_test_spe</th>\n",
       "      <th>rank_test_spe</th>\n",
       "      <th>split0_test_sen</th>\n",
       "      <th>split1_test_sen</th>\n",
       "      <th>split2_test_sen</th>\n",
       "      <th>split3_test_sen</th>\n",
       "      <th>split4_test_sen</th>\n",
       "      <th>mean_test_sen</th>\n",
       "      <th>std_test_sen</th>\n",
       "      <th>rank_test_sen</th>\n",
       "    </tr>\n",
       "  </thead>\n",
       "  <tbody>\n",
       "    <tr>\n",
       "      <td>0</td>\n",
       "      <td>0.021173</td>\n",
       "      <td>0.001815</td>\n",
       "      <td>0.007959</td>\n",
       "      <td>0.001322</td>\n",
       "      <td>1e-05</td>\n",
       "      <td>sigmoid</td>\n",
       "      <td>{'SVM__gamma': 1e-05, 'SVM__kernel': 'sigmoid'}</td>\n",
       "      <td>1.000000</td>\n",
       "      <td>1.000000</td>\n",
       "      <td>1.000000</td>\n",
       "      <td>...</td>\n",
       "      <td>0.000000</td>\n",
       "      <td>1</td>\n",
       "      <td>0.000000</td>\n",
       "      <td>0.000000</td>\n",
       "      <td>0.000000</td>\n",
       "      <td>0.000000</td>\n",
       "      <td>0.000000</td>\n",
       "      <td>0.000000</td>\n",
       "      <td>0.000000</td>\n",
       "      <td>99</td>\n",
       "    </tr>\n",
       "    <tr>\n",
       "      <td>1</td>\n",
       "      <td>0.021335</td>\n",
       "      <td>0.004476</td>\n",
       "      <td>0.008293</td>\n",
       "      <td>0.001514</td>\n",
       "      <td>1e-05</td>\n",
       "      <td>rbf</td>\n",
       "      <td>{'SVM__gamma': 1e-05, 'SVM__kernel': 'rbf'}</td>\n",
       "      <td>1.000000</td>\n",
       "      <td>1.000000</td>\n",
       "      <td>1.000000</td>\n",
       "      <td>...</td>\n",
       "      <td>0.000000</td>\n",
       "      <td>1</td>\n",
       "      <td>0.000000</td>\n",
       "      <td>0.000000</td>\n",
       "      <td>0.000000</td>\n",
       "      <td>0.000000</td>\n",
       "      <td>0.000000</td>\n",
       "      <td>0.000000</td>\n",
       "      <td>0.000000</td>\n",
       "      <td>99</td>\n",
       "    </tr>\n",
       "    <tr>\n",
       "      <td>2</td>\n",
       "      <td>0.020273</td>\n",
       "      <td>0.000772</td>\n",
       "      <td>0.007602</td>\n",
       "      <td>0.000233</td>\n",
       "      <td>0.102051</td>\n",
       "      <td>sigmoid</td>\n",
       "      <td>{'SVM__gamma': 0.10205061224489796, 'SVM__kern...</td>\n",
       "      <td>0.991573</td>\n",
       "      <td>0.983146</td>\n",
       "      <td>0.997191</td>\n",
       "      <td>...</td>\n",
       "      <td>0.004698</td>\n",
       "      <td>52</td>\n",
       "      <td>0.000000</td>\n",
       "      <td>0.055556</td>\n",
       "      <td>0.027778</td>\n",
       "      <td>0.000000</td>\n",
       "      <td>0.000000</td>\n",
       "      <td>0.016667</td>\n",
       "      <td>0.022222</td>\n",
       "      <td>98</td>\n",
       "    </tr>\n",
       "    <tr>\n",
       "      <td>3</td>\n",
       "      <td>0.029172</td>\n",
       "      <td>0.001747</td>\n",
       "      <td>0.008612</td>\n",
       "      <td>0.000630</td>\n",
       "      <td>0.102051</td>\n",
       "      <td>rbf</td>\n",
       "      <td>{'SVM__gamma': 0.10205061224489796, 'SVM__kern...</td>\n",
       "      <td>0.997191</td>\n",
       "      <td>0.994382</td>\n",
       "      <td>1.000000</td>\n",
       "      <td>...</td>\n",
       "      <td>0.002512</td>\n",
       "      <td>3</td>\n",
       "      <td>0.108108</td>\n",
       "      <td>0.027778</td>\n",
       "      <td>0.055556</td>\n",
       "      <td>0.138889</td>\n",
       "      <td>0.055556</td>\n",
       "      <td>0.077204</td>\n",
       "      <td>0.040352</td>\n",
       "      <td>95</td>\n",
       "    </tr>\n",
       "    <tr>\n",
       "      <td>4</td>\n",
       "      <td>0.022862</td>\n",
       "      <td>0.002884</td>\n",
       "      <td>0.008498</td>\n",
       "      <td>0.001027</td>\n",
       "      <td>0.204091</td>\n",
       "      <td>sigmoid</td>\n",
       "      <td>{'SVM__gamma': 0.20409122448979594, 'SVM__kern...</td>\n",
       "      <td>0.985955</td>\n",
       "      <td>0.985955</td>\n",
       "      <td>0.991573</td>\n",
       "      <td>...</td>\n",
       "      <td>0.003382</td>\n",
       "      <td>53</td>\n",
       "      <td>0.000000</td>\n",
       "      <td>0.055556</td>\n",
       "      <td>0.055556</td>\n",
       "      <td>0.000000</td>\n",
       "      <td>0.000000</td>\n",
       "      <td>0.022222</td>\n",
       "      <td>0.027217</td>\n",
       "      <td>97</td>\n",
       "    </tr>\n",
       "    <tr>\n",
       "      <td>...</td>\n",
       "      <td>...</td>\n",
       "      <td>...</td>\n",
       "      <td>...</td>\n",
       "      <td>...</td>\n",
       "      <td>...</td>\n",
       "      <td>...</td>\n",
       "      <td>...</td>\n",
       "      <td>...</td>\n",
       "      <td>...</td>\n",
       "      <td>...</td>\n",
       "      <td>...</td>\n",
       "      <td>...</td>\n",
       "      <td>...</td>\n",
       "      <td>...</td>\n",
       "      <td>...</td>\n",
       "      <td>...</td>\n",
       "      <td>...</td>\n",
       "      <td>...</td>\n",
       "      <td>...</td>\n",
       "      <td>...</td>\n",
       "      <td>...</td>\n",
       "    </tr>\n",
       "    <tr>\n",
       "      <td>95</td>\n",
       "      <td>0.046223</td>\n",
       "      <td>0.001244</td>\n",
       "      <td>0.014681</td>\n",
       "      <td>0.000261</td>\n",
       "      <td>4.79592</td>\n",
       "      <td>rbf</td>\n",
       "      <td>{'SVM__gamma': 4.795918775510204, 'SVM__kernel...</td>\n",
       "      <td>0.991573</td>\n",
       "      <td>0.991573</td>\n",
       "      <td>1.000000</td>\n",
       "      <td>...</td>\n",
       "      <td>0.003371</td>\n",
       "      <td>27</td>\n",
       "      <td>0.216216</td>\n",
       "      <td>0.138889</td>\n",
       "      <td>0.138889</td>\n",
       "      <td>0.194444</td>\n",
       "      <td>0.111111</td>\n",
       "      <td>0.159964</td>\n",
       "      <td>0.039064</td>\n",
       "      <td>74</td>\n",
       "    </tr>\n",
       "    <tr>\n",
       "      <td>96</td>\n",
       "      <td>0.024051</td>\n",
       "      <td>0.002287</td>\n",
       "      <td>0.008553</td>\n",
       "      <td>0.000848</td>\n",
       "      <td>4.89796</td>\n",
       "      <td>sigmoid</td>\n",
       "      <td>{'SVM__gamma': 4.897959387755102, 'SVM__kernel...</td>\n",
       "      <td>0.949438</td>\n",
       "      <td>0.952247</td>\n",
       "      <td>0.921348</td>\n",
       "      <td>...</td>\n",
       "      <td>0.016632</td>\n",
       "      <td>60</td>\n",
       "      <td>0.000000</td>\n",
       "      <td>0.222222</td>\n",
       "      <td>0.305556</td>\n",
       "      <td>0.138889</td>\n",
       "      <td>0.000000</td>\n",
       "      <td>0.133333</td>\n",
       "      <td>0.120953</td>\n",
       "      <td>87</td>\n",
       "    </tr>\n",
       "    <tr>\n",
       "      <td>97</td>\n",
       "      <td>0.054695</td>\n",
       "      <td>0.004851</td>\n",
       "      <td>0.017692</td>\n",
       "      <td>0.003083</td>\n",
       "      <td>4.89796</td>\n",
       "      <td>rbf</td>\n",
       "      <td>{'SVM__gamma': 4.897959387755102, 'SVM__kernel...</td>\n",
       "      <td>0.991573</td>\n",
       "      <td>0.991573</td>\n",
       "      <td>1.000000</td>\n",
       "      <td>...</td>\n",
       "      <td>0.003371</td>\n",
       "      <td>27</td>\n",
       "      <td>0.216216</td>\n",
       "      <td>0.138889</td>\n",
       "      <td>0.138889</td>\n",
       "      <td>0.194444</td>\n",
       "      <td>0.111111</td>\n",
       "      <td>0.159964</td>\n",
       "      <td>0.039064</td>\n",
       "      <td>74</td>\n",
       "    </tr>\n",
       "    <tr>\n",
       "      <td>98</td>\n",
       "      <td>0.025726</td>\n",
       "      <td>0.006917</td>\n",
       "      <td>0.008385</td>\n",
       "      <td>0.000938</td>\n",
       "      <td>5</td>\n",
       "      <td>sigmoid</td>\n",
       "      <td>{'SVM__gamma': 5.0, 'SVM__kernel': 'sigmoid'}</td>\n",
       "      <td>0.912921</td>\n",
       "      <td>0.941011</td>\n",
       "      <td>0.921348</td>\n",
       "      <td>...</td>\n",
       "      <td>0.017460</td>\n",
       "      <td>73</td>\n",
       "      <td>0.135135</td>\n",
       "      <td>0.138889</td>\n",
       "      <td>0.305556</td>\n",
       "      <td>0.138889</td>\n",
       "      <td>0.055556</td>\n",
       "      <td>0.154845</td>\n",
       "      <td>0.081787</td>\n",
       "      <td>83</td>\n",
       "    </tr>\n",
       "    <tr>\n",
       "      <td>99</td>\n",
       "      <td>0.051940</td>\n",
       "      <td>0.005240</td>\n",
       "      <td>0.016827</td>\n",
       "      <td>0.001300</td>\n",
       "      <td>5</td>\n",
       "      <td>rbf</td>\n",
       "      <td>{'SVM__gamma': 5.0, 'SVM__kernel': 'rbf'}</td>\n",
       "      <td>0.991573</td>\n",
       "      <td>0.991573</td>\n",
       "      <td>1.000000</td>\n",
       "      <td>...</td>\n",
       "      <td>0.003371</td>\n",
       "      <td>27</td>\n",
       "      <td>0.216216</td>\n",
       "      <td>0.138889</td>\n",
       "      <td>0.138889</td>\n",
       "      <td>0.194444</td>\n",
       "      <td>0.111111</td>\n",
       "      <td>0.159964</td>\n",
       "      <td>0.039064</td>\n",
       "      <td>74</td>\n",
       "    </tr>\n",
       "  </tbody>\n",
       "</table>\n",
       "<p>100 rows × 23 columns</p>\n",
       "</div>"
      ],
      "text/plain": [
       "    mean_fit_time  std_fit_time  mean_score_time  std_score_time  \\\n",
       "0        0.021173      0.001815         0.007959        0.001322   \n",
       "1        0.021335      0.004476         0.008293        0.001514   \n",
       "2        0.020273      0.000772         0.007602        0.000233   \n",
       "3        0.029172      0.001747         0.008612        0.000630   \n",
       "4        0.022862      0.002884         0.008498        0.001027   \n",
       "..            ...           ...              ...             ...   \n",
       "95       0.046223      0.001244         0.014681        0.000261   \n",
       "96       0.024051      0.002287         0.008553        0.000848   \n",
       "97       0.054695      0.004851         0.017692        0.003083   \n",
       "98       0.025726      0.006917         0.008385        0.000938   \n",
       "99       0.051940      0.005240         0.016827        0.001300   \n",
       "\n",
       "   param_SVM__gamma param_SVM__kernel  \\\n",
       "0             1e-05           sigmoid   \n",
       "1             1e-05               rbf   \n",
       "2          0.102051           sigmoid   \n",
       "3          0.102051               rbf   \n",
       "4          0.204091           sigmoid   \n",
       "..              ...               ...   \n",
       "95          4.79592               rbf   \n",
       "96          4.89796           sigmoid   \n",
       "97          4.89796               rbf   \n",
       "98                5           sigmoid   \n",
       "99                5               rbf   \n",
       "\n",
       "                                               params  split0_test_spe  \\\n",
       "0     {'SVM__gamma': 1e-05, 'SVM__kernel': 'sigmoid'}         1.000000   \n",
       "1         {'SVM__gamma': 1e-05, 'SVM__kernel': 'rbf'}         1.000000   \n",
       "2   {'SVM__gamma': 0.10205061224489796, 'SVM__kern...         0.991573   \n",
       "3   {'SVM__gamma': 0.10205061224489796, 'SVM__kern...         0.997191   \n",
       "4   {'SVM__gamma': 0.20409122448979594, 'SVM__kern...         0.985955   \n",
       "..                                                ...              ...   \n",
       "95  {'SVM__gamma': 4.795918775510204, 'SVM__kernel...         0.991573   \n",
       "96  {'SVM__gamma': 4.897959387755102, 'SVM__kernel...         0.949438   \n",
       "97  {'SVM__gamma': 4.897959387755102, 'SVM__kernel...         0.991573   \n",
       "98      {'SVM__gamma': 5.0, 'SVM__kernel': 'sigmoid'}         0.912921   \n",
       "99          {'SVM__gamma': 5.0, 'SVM__kernel': 'rbf'}         0.991573   \n",
       "\n",
       "    split1_test_spe  split2_test_spe  ...  std_test_spe  rank_test_spe  \\\n",
       "0          1.000000         1.000000  ...      0.000000              1   \n",
       "1          1.000000         1.000000  ...      0.000000              1   \n",
       "2          0.983146         0.997191  ...      0.004698             52   \n",
       "3          0.994382         1.000000  ...      0.002512              3   \n",
       "4          0.985955         0.991573  ...      0.003382             53   \n",
       "..              ...              ...  ...           ...            ...   \n",
       "95         0.991573         1.000000  ...      0.003371             27   \n",
       "96         0.952247         0.921348  ...      0.016632             60   \n",
       "97         0.991573         1.000000  ...      0.003371             27   \n",
       "98         0.941011         0.921348  ...      0.017460             73   \n",
       "99         0.991573         1.000000  ...      0.003371             27   \n",
       "\n",
       "    split0_test_sen  split1_test_sen  split2_test_sen  split3_test_sen  \\\n",
       "0          0.000000         0.000000         0.000000         0.000000   \n",
       "1          0.000000         0.000000         0.000000         0.000000   \n",
       "2          0.000000         0.055556         0.027778         0.000000   \n",
       "3          0.108108         0.027778         0.055556         0.138889   \n",
       "4          0.000000         0.055556         0.055556         0.000000   \n",
       "..              ...              ...              ...              ...   \n",
       "95         0.216216         0.138889         0.138889         0.194444   \n",
       "96         0.000000         0.222222         0.305556         0.138889   \n",
       "97         0.216216         0.138889         0.138889         0.194444   \n",
       "98         0.135135         0.138889         0.305556         0.138889   \n",
       "99         0.216216         0.138889         0.138889         0.194444   \n",
       "\n",
       "    split4_test_sen  mean_test_sen  std_test_sen  rank_test_sen  \n",
       "0          0.000000       0.000000      0.000000             99  \n",
       "1          0.000000       0.000000      0.000000             99  \n",
       "2          0.000000       0.016667      0.022222             98  \n",
       "3          0.055556       0.077204      0.040352             95  \n",
       "4          0.000000       0.022222      0.027217             97  \n",
       "..              ...            ...           ...            ...  \n",
       "95         0.111111       0.159964      0.039064             74  \n",
       "96         0.000000       0.133333      0.120953             87  \n",
       "97         0.111111       0.159964      0.039064             74  \n",
       "98         0.055556       0.154845      0.081787             83  \n",
       "99         0.111111       0.159964      0.039064             74  \n",
       "\n",
       "[100 rows x 23 columns]"
      ]
     },
     "execution_count": 10,
     "metadata": {},
     "output_type": "execute_result"
    }
   ],
   "source": [
    "def specificity_score(y,yhat):\n",
    "    TN = np.logical_and(y==0,yhat==0).sum()\n",
    "    FP = np.logical_and(y==0,yhat==1).sum()\n",
    "    return TN/(TN+FP)\n",
    "\n",
    "\n",
    "scoring = {\"spe\":make_scorer(specificity_score),\"sen\":make_scorer(sensitivity_score)}\n",
    "param_grid = {\"SVM__kernel\": [\"sigmoid\", \"rbf\"], \"SVM__gamma\": np.linspace(1e-5, 5)}\n",
    "gscv = GridSearchCV(model_pipeline, param_grid= param_grid, cv = 5,scoring=scoring,refit =\"sen\")\n",
    "gscv.fit(Xtrain,ytrain)\n",
    "\n",
    "\n",
    "res = pd.DataFrame(gscv.cv_results_)\n",
    "\n"
   ]
  },
  {
   "cell_type": "code",
   "execution_count": null,
   "metadata": {},
   "outputs": [],
   "source": []
  },
  {
   "cell_type": "markdown",
   "metadata": {},
   "source": [
    "## Part G: 1 Mark\n",
    "\n",
    "What was the cross validated sensitivity for your regularized model?\n"
   ]
  },
  {
   "cell_type": "code",
   "execution_count": 11,
   "metadata": {},
   "outputs": [
    {
     "name": "stdout",
     "output_type": "stream",
     "text": [
      "0.21596532757247044\n"
     ]
    }
   ],
   "source": [
    "print(gscv.best_score_)"
   ]
  },
  {
   "cell_type": "markdown",
   "metadata": {},
   "source": [
    "## Part H: 1 Mark\n",
    "\n",
    "Plot how the mean test sensitivity and specificity changes as `gamma` changes.  Color the lines according to `kernel`."
   ]
  },
  {
   "cell_type": "code",
   "execution_count": 12,
   "metadata": {},
   "outputs": [
    {
     "data": {
      "text/plain": [
       "Text(0.5, 1.0, 'specificity vs gamma among rbf and sigmoid kernel')"
      ]
     },
     "execution_count": 12,
     "metadata": {},
     "output_type": "execute_result"
    },
    {
     "data": {
      "image/png": "[encoded data removed]",
      "text/plain": [
       "<Figure size 432x288 with 1 Axes>"
      ]
     },
     "metadata": {
      "needs_background": "light"
     },
     "output_type": "display_data"
    },
    {
     "data": {
      "image/png": "[encoded data removed]",
      "text/plain": [
       "<Figure size 432x288 with 1 Axes>"
      ]
     },
     "metadata": {
      "needs_background": "light"
     },
     "output_type": "display_data"
    }
   ],
   "source": [
    "fig,ax= plt.subplots()\n",
    "sns.lineplot(\n",
    "    data=res, x=\"param_SVM__gamma\", y=\"mean_test_sen\", hue=\"param_SVM__kernel\"\n",
    ")\n",
    "ax.legend()\n",
    "ax.set_xlabel('gamma')\n",
    "ax.set_ylabel('sensitivity')\n",
    "ax.set_title('sensitivity vs gamma among rbf and sigmoid kernel')\n",
    "\n",
    "fig2,ax2= plt.subplots()\n",
    "sns.lineplot(\n",
    "    data=res, x=\"param_SVM__gamma\", y=\"mean_test_spe\", hue=\"param_SVM__kernel\"\n",
    ")\n",
    "ax2.legend()\n",
    "ax2.set_xlabel('gamma')\n",
    "ax2.set_ylabel('specificity')\n",
    "ax2.set_title('specificity vs gamma among rbf and sigmoid kernel')"
   ]
  },
  {
   "cell_type": "markdown",
   "metadata": {},
   "source": [
    "# Part I: 1 Mark\n",
    "\n",
    "Use your selected model to predict on the test set.  Compute the test sensitivity and specificity.  Interpret the sensitivity and specificity in terms of the conditional probabilities.\n"
   ]
  },
  {
   "cell_type": "code",
   "execution_count": 13,
   "metadata": {
    "scrolled": true
   },
   "outputs": [
    {
     "data": {
      "text/plain": [
       "0.9053521126760563"
      ]
     },
     "metadata": {},
     "output_type": "display_data"
    },
    {
     "data": {
      "text/plain": [
       "0.22043010752688172"
      ]
     },
     "metadata": {},
     "output_type": "display_data"
    }
   ],
   "source": [
    "display(specificity_score(ytest,gscv.best_estimator_.predict(Xtest)))\n",
    "display(sensitivity_score(ytest,gscv.best_estimator_.predict(Xtest)))\n"
   ]
  },
  {
   "cell_type": "code",
   "execution_count": 14,
   "metadata": {},
   "outputs": [
    {
     "ename": "SyntaxError",
     "evalue": "invalid syntax (<ipython-input-14-1bcc7103ceaf>, line 1)",
     "output_type": "error",
     "traceback": [
      "\u001b[0;36m  File \u001b[0;32m\"<ipython-input-14-1bcc7103ceaf>\"\u001b[0;36m, line \u001b[0;32m1\u001b[0m\n\u001b[0;31m    we know that the sensitivity is 0.905,\u001b[0m\n\u001b[0m          ^\u001b[0m\n\u001b[0;31mSyntaxError\u001b[0m\u001b[0;31m:\u001b[0m invalid syntax\n"
     ]
    }
   ],
   "source": [
    "we know that the sensitivity is 0.905, \n",
    "which means that given a email is spamed, the possibility it is gonna be detected is 0.905.\n",
    "we know that the specificity is 0.220, \n",
    "which means that given a email is non-spamed, the possibility it is not gonna treated as spam is 0.220.\n",
    "\n"
   ]
  }
 ],
 "metadata": {
  "kernelspec": {
   "display_name": "Python 3",
   "language": "python",
   "name": "python3"
  },
  "language_info": {
   "codemirror_mode": {
    "name": "ipython",
    "version": 3
   },
   "file_extension": ".py",
   "mimetype": "text/x-python",
   "name": "python",
   "nbconvert_exporter": "python",
   "pygments_lexer": "ipython3",
   "version": "3.7.4"
  }
 },
 "nbformat": 4,
 "nbformat_minor": 4
}
